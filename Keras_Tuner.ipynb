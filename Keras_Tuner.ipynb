{
  "nbformat": 4,
  "nbformat_minor": 0,
  "metadata": {
    "colab": {
      "name": "Keras-Tuner.ipynb",
      "provenance": [],
      "authorship_tag": "ABX9TyPAPKF7FedXTKUkmGbHYqaT",
      "include_colab_link": true
    },
    "kernelspec": {
      "name": "python3",
      "display_name": "Python 3"
    },
    "language_info": {
      "name": "python"
    },
    "accelerator": "GPU"
  },
  "cells": [
    {
      "cell_type": "markdown",
      "metadata": {
        "id": "view-in-github",
        "colab_type": "text"
      },
      "source": [
        "<a href=\"https://colab.research.google.com/github/topguns837/Data_Science_Notebooks/blob/main/Keras_Tuner.ipynb\" target=\"_parent\"><img src=\"https://colab.research.google.com/assets/colab-badge.svg\" alt=\"Open In Colab\"/></a>"
      ]
    },
    {
      "cell_type": "code",
      "execution_count": 1,
      "metadata": {
        "colab": {
          "base_uri": "https://localhost:8080/"
        },
        "id": "yxEj6G5VPVqX",
        "outputId": "f08b3eee-4000-4824-9091-7ff7b8cf2cf3"
      },
      "outputs": [
        {
          "output_type": "stream",
          "name": "stdout",
          "text": [
            "2.8.0\n"
          ]
        }
      ],
      "source": [
        "import tensorflow as tf\n",
        "print(tf.__version__)"
      ]
    },
    {
      "cell_type": "code",
      "source": [
        "!pip install keras-tuner"
      ],
      "metadata": {
        "colab": {
          "base_uri": "https://localhost:8080/"
        },
        "id": "Oo_T96qHQDg-",
        "outputId": "05c648c7-13d2-42ee-d42b-332583b68db2"
      },
      "execution_count": 2,
      "outputs": [
        {
          "output_type": "stream",
          "name": "stdout",
          "text": [
            "Requirement already satisfied: keras-tuner in /usr/local/lib/python3.7/dist-packages (1.1.2)\n",
            "Requirement already satisfied: numpy in /usr/local/lib/python3.7/dist-packages (from keras-tuner) (1.21.6)\n",
            "Requirement already satisfied: kt-legacy in /usr/local/lib/python3.7/dist-packages (from keras-tuner) (1.0.4)\n",
            "Requirement already satisfied: packaging in /usr/local/lib/python3.7/dist-packages (from keras-tuner) (21.3)\n",
            "Requirement already satisfied: requests in /usr/local/lib/python3.7/dist-packages (from keras-tuner) (2.23.0)\n",
            "Requirement already satisfied: ipython in /usr/local/lib/python3.7/dist-packages (from keras-tuner) (5.5.0)\n",
            "Requirement already satisfied: tensorboard in /usr/local/lib/python3.7/dist-packages (from keras-tuner) (2.8.0)\n",
            "Requirement already satisfied: pickleshare in /usr/local/lib/python3.7/dist-packages (from ipython->keras-tuner) (0.7.5)\n",
            "Requirement already satisfied: prompt-toolkit<2.0.0,>=1.0.4 in /usr/local/lib/python3.7/dist-packages (from ipython->keras-tuner) (1.0.18)\n",
            "Requirement already satisfied: setuptools>=18.5 in /usr/local/lib/python3.7/dist-packages (from ipython->keras-tuner) (57.4.0)\n",
            "Requirement already satisfied: decorator in /usr/local/lib/python3.7/dist-packages (from ipython->keras-tuner) (4.4.2)\n",
            "Requirement already satisfied: traitlets>=4.2 in /usr/local/lib/python3.7/dist-packages (from ipython->keras-tuner) (5.1.1)\n",
            "Requirement already satisfied: pexpect in /usr/local/lib/python3.7/dist-packages (from ipython->keras-tuner) (4.8.0)\n",
            "Requirement already satisfied: simplegeneric>0.8 in /usr/local/lib/python3.7/dist-packages (from ipython->keras-tuner) (0.8.1)\n",
            "Requirement already satisfied: pygments in /usr/local/lib/python3.7/dist-packages (from ipython->keras-tuner) (2.6.1)\n",
            "Requirement already satisfied: six>=1.9.0 in /usr/local/lib/python3.7/dist-packages (from prompt-toolkit<2.0.0,>=1.0.4->ipython->keras-tuner) (1.15.0)\n",
            "Requirement already satisfied: wcwidth in /usr/local/lib/python3.7/dist-packages (from prompt-toolkit<2.0.0,>=1.0.4->ipython->keras-tuner) (0.2.5)\n",
            "Requirement already satisfied: pyparsing!=3.0.5,>=2.0.2 in /usr/local/lib/python3.7/dist-packages (from packaging->keras-tuner) (3.0.8)\n",
            "Requirement already satisfied: ptyprocess>=0.5 in /usr/local/lib/python3.7/dist-packages (from pexpect->ipython->keras-tuner) (0.7.0)\n",
            "Requirement already satisfied: certifi>=2017.4.17 in /usr/local/lib/python3.7/dist-packages (from requests->keras-tuner) (2021.10.8)\n",
            "Requirement already satisfied: chardet<4,>=3.0.2 in /usr/local/lib/python3.7/dist-packages (from requests->keras-tuner) (3.0.4)\n",
            "Requirement already satisfied: idna<3,>=2.5 in /usr/local/lib/python3.7/dist-packages (from requests->keras-tuner) (2.10)\n",
            "Requirement already satisfied: urllib3!=1.25.0,!=1.25.1,<1.26,>=1.21.1 in /usr/local/lib/python3.7/dist-packages (from requests->keras-tuner) (1.24.3)\n",
            "Requirement already satisfied: grpcio>=1.24.3 in /usr/local/lib/python3.7/dist-packages (from tensorboard->keras-tuner) (1.44.0)\n",
            "Requirement already satisfied: markdown>=2.6.8 in /usr/local/lib/python3.7/dist-packages (from tensorboard->keras-tuner) (3.3.6)\n",
            "Requirement already satisfied: werkzeug>=0.11.15 in /usr/local/lib/python3.7/dist-packages (from tensorboard->keras-tuner) (1.0.1)\n",
            "Requirement already satisfied: protobuf>=3.6.0 in /usr/local/lib/python3.7/dist-packages (from tensorboard->keras-tuner) (3.17.3)\n",
            "Requirement already satisfied: wheel>=0.26 in /usr/local/lib/python3.7/dist-packages (from tensorboard->keras-tuner) (0.37.1)\n",
            "Requirement already satisfied: tensorboard-data-server<0.7.0,>=0.6.0 in /usr/local/lib/python3.7/dist-packages (from tensorboard->keras-tuner) (0.6.1)\n",
            "Requirement already satisfied: absl-py>=0.4 in /usr/local/lib/python3.7/dist-packages (from tensorboard->keras-tuner) (1.0.0)\n",
            "Requirement already satisfied: tensorboard-plugin-wit>=1.6.0 in /usr/local/lib/python3.7/dist-packages (from tensorboard->keras-tuner) (1.8.1)\n",
            "Requirement already satisfied: google-auth-oauthlib<0.5,>=0.4.1 in /usr/local/lib/python3.7/dist-packages (from tensorboard->keras-tuner) (0.4.6)\n",
            "Requirement already satisfied: google-auth<3,>=1.6.3 in /usr/local/lib/python3.7/dist-packages (from tensorboard->keras-tuner) (1.35.0)\n",
            "Requirement already satisfied: pyasn1-modules>=0.2.1 in /usr/local/lib/python3.7/dist-packages (from google-auth<3,>=1.6.3->tensorboard->keras-tuner) (0.2.8)\n",
            "Requirement already satisfied: rsa<5,>=3.1.4 in /usr/local/lib/python3.7/dist-packages (from google-auth<3,>=1.6.3->tensorboard->keras-tuner) (4.8)\n",
            "Requirement already satisfied: cachetools<5.0,>=2.0.0 in /usr/local/lib/python3.7/dist-packages (from google-auth<3,>=1.6.3->tensorboard->keras-tuner) (4.2.4)\n",
            "Requirement already satisfied: requests-oauthlib>=0.7.0 in /usr/local/lib/python3.7/dist-packages (from google-auth-oauthlib<0.5,>=0.4.1->tensorboard->keras-tuner) (1.3.1)\n",
            "Requirement already satisfied: importlib-metadata>=4.4 in /usr/local/lib/python3.7/dist-packages (from markdown>=2.6.8->tensorboard->keras-tuner) (4.11.3)\n",
            "Requirement already satisfied: typing-extensions>=3.6.4 in /usr/local/lib/python3.7/dist-packages (from importlib-metadata>=4.4->markdown>=2.6.8->tensorboard->keras-tuner) (4.2.0)\n",
            "Requirement already satisfied: zipp>=0.5 in /usr/local/lib/python3.7/dist-packages (from importlib-metadata>=4.4->markdown>=2.6.8->tensorboard->keras-tuner) (3.8.0)\n",
            "Requirement already satisfied: pyasn1<0.5.0,>=0.4.6 in /usr/local/lib/python3.7/dist-packages (from pyasn1-modules>=0.2.1->google-auth<3,>=1.6.3->tensorboard->keras-tuner) (0.4.8)\n",
            "Requirement already satisfied: oauthlib>=3.0.0 in /usr/local/lib/python3.7/dist-packages (from requests-oauthlib>=0.7.0->google-auth-oauthlib<0.5,>=0.4.1->tensorboard->keras-tuner) (3.2.0)\n"
          ]
        }
      ]
    },
    {
      "cell_type": "code",
      "source": [
        "import pandas as pd\n",
        "import numpy as np\n",
        "import matplotlib.pyplot as plt\n",
        "import seaborn as sns\n",
        "from kerastuner.tuners import RandomSearch\n",
        "\n",
        "print(\"done\")"
      ],
      "metadata": {
        "colab": {
          "base_uri": "https://localhost:8080/"
        },
        "id": "bbLeUcyPPbWK",
        "outputId": "7ee07774-9c65-4c46-e068-eb90754c8c3d"
      },
      "execution_count": 3,
      "outputs": [
        {
          "output_type": "stream",
          "name": "stdout",
          "text": [
            "done\n"
          ]
        },
        {
          "output_type": "stream",
          "name": "stderr",
          "text": [
            "/usr/local/lib/python3.7/dist-packages/ipykernel_launcher.py:5: DeprecationWarning: `import kerastuner` is deprecated, please use `import keras_tuner`.\n",
            "  \"\"\"\n"
          ]
        }
      ]
    },
    {
      "cell_type": "code",
      "source": [
        "df = pd.read_csv('https://raw.githubusercontent.com/krishnaik06/Keras-Tuner/main/Real_Combine.csv')\n",
        "df.head()"
      ],
      "metadata": {
        "colab": {
          "base_uri": "https://localhost:8080/",
          "height": 206
        },
        "id": "V0c13c_OPbYx",
        "outputId": "2be66368-2133-44e6-81b9-bb8f1073b372"
      },
      "execution_count": 4,
      "outputs": [
        {
          "output_type": "execute_result",
          "data": {
            "text/plain": [
              "      T    TM   Tm     SLP     H   VV    V    VM      PM 2.5\n",
              "0   7.4   9.8  4.8  1017.6  93.0  0.5  4.3   9.4  219.720833\n",
              "1   7.8  12.7  4.4  1018.5  87.0  0.6  4.4  11.1  182.187500\n",
              "2   6.7  13.4  2.4  1019.4  82.0  0.6  4.8  11.1  154.037500\n",
              "3   8.6  15.5  3.3  1018.7  72.0  0.8  8.1  20.6  223.208333\n",
              "4  12.4  20.9  4.4  1017.3  61.0  1.3  8.7  22.2  200.645833"
            ],
            "text/html": [
              "\n",
              "  <div id=\"df-cb867863-9ffe-4338-bf98-76377895474b\">\n",
              "    <div class=\"colab-df-container\">\n",
              "      <div>\n",
              "<style scoped>\n",
              "    .dataframe tbody tr th:only-of-type {\n",
              "        vertical-align: middle;\n",
              "    }\n",
              "\n",
              "    .dataframe tbody tr th {\n",
              "        vertical-align: top;\n",
              "    }\n",
              "\n",
              "    .dataframe thead th {\n",
              "        text-align: right;\n",
              "    }\n",
              "</style>\n",
              "<table border=\"1\" class=\"dataframe\">\n",
              "  <thead>\n",
              "    <tr style=\"text-align: right;\">\n",
              "      <th></th>\n",
              "      <th>T</th>\n",
              "      <th>TM</th>\n",
              "      <th>Tm</th>\n",
              "      <th>SLP</th>\n",
              "      <th>H</th>\n",
              "      <th>VV</th>\n",
              "      <th>V</th>\n",
              "      <th>VM</th>\n",
              "      <th>PM 2.5</th>\n",
              "    </tr>\n",
              "  </thead>\n",
              "  <tbody>\n",
              "    <tr>\n",
              "      <th>0</th>\n",
              "      <td>7.4</td>\n",
              "      <td>9.8</td>\n",
              "      <td>4.8</td>\n",
              "      <td>1017.6</td>\n",
              "      <td>93.0</td>\n",
              "      <td>0.5</td>\n",
              "      <td>4.3</td>\n",
              "      <td>9.4</td>\n",
              "      <td>219.720833</td>\n",
              "    </tr>\n",
              "    <tr>\n",
              "      <th>1</th>\n",
              "      <td>7.8</td>\n",
              "      <td>12.7</td>\n",
              "      <td>4.4</td>\n",
              "      <td>1018.5</td>\n",
              "      <td>87.0</td>\n",
              "      <td>0.6</td>\n",
              "      <td>4.4</td>\n",
              "      <td>11.1</td>\n",
              "      <td>182.187500</td>\n",
              "    </tr>\n",
              "    <tr>\n",
              "      <th>2</th>\n",
              "      <td>6.7</td>\n",
              "      <td>13.4</td>\n",
              "      <td>2.4</td>\n",
              "      <td>1019.4</td>\n",
              "      <td>82.0</td>\n",
              "      <td>0.6</td>\n",
              "      <td>4.8</td>\n",
              "      <td>11.1</td>\n",
              "      <td>154.037500</td>\n",
              "    </tr>\n",
              "    <tr>\n",
              "      <th>3</th>\n",
              "      <td>8.6</td>\n",
              "      <td>15.5</td>\n",
              "      <td>3.3</td>\n",
              "      <td>1018.7</td>\n",
              "      <td>72.0</td>\n",
              "      <td>0.8</td>\n",
              "      <td>8.1</td>\n",
              "      <td>20.6</td>\n",
              "      <td>223.208333</td>\n",
              "    </tr>\n",
              "    <tr>\n",
              "      <th>4</th>\n",
              "      <td>12.4</td>\n",
              "      <td>20.9</td>\n",
              "      <td>4.4</td>\n",
              "      <td>1017.3</td>\n",
              "      <td>61.0</td>\n",
              "      <td>1.3</td>\n",
              "      <td>8.7</td>\n",
              "      <td>22.2</td>\n",
              "      <td>200.645833</td>\n",
              "    </tr>\n",
              "  </tbody>\n",
              "</table>\n",
              "</div>\n",
              "      <button class=\"colab-df-convert\" onclick=\"convertToInteractive('df-cb867863-9ffe-4338-bf98-76377895474b')\"\n",
              "              title=\"Convert this dataframe to an interactive table.\"\n",
              "              style=\"display:none;\">\n",
              "        \n",
              "  <svg xmlns=\"http://www.w3.org/2000/svg\" height=\"24px\"viewBox=\"0 0 24 24\"\n",
              "       width=\"24px\">\n",
              "    <path d=\"M0 0h24v24H0V0z\" fill=\"none\"/>\n",
              "    <path d=\"M18.56 5.44l.94 2.06.94-2.06 2.06-.94-2.06-.94-.94-2.06-.94 2.06-2.06.94zm-11 1L8.5 8.5l.94-2.06 2.06-.94-2.06-.94L8.5 2.5l-.94 2.06-2.06.94zm10 10l.94 2.06.94-2.06 2.06-.94-2.06-.94-.94-2.06-.94 2.06-2.06.94z\"/><path d=\"M17.41 7.96l-1.37-1.37c-.4-.4-.92-.59-1.43-.59-.52 0-1.04.2-1.43.59L10.3 9.45l-7.72 7.72c-.78.78-.78 2.05 0 2.83L4 21.41c.39.39.9.59 1.41.59.51 0 1.02-.2 1.41-.59l7.78-7.78 2.81-2.81c.8-.78.8-2.07 0-2.86zM5.41 20L4 18.59l7.72-7.72 1.47 1.35L5.41 20z\"/>\n",
              "  </svg>\n",
              "      </button>\n",
              "      \n",
              "  <style>\n",
              "    .colab-df-container {\n",
              "      display:flex;\n",
              "      flex-wrap:wrap;\n",
              "      gap: 12px;\n",
              "    }\n",
              "\n",
              "    .colab-df-convert {\n",
              "      background-color: #E8F0FE;\n",
              "      border: none;\n",
              "      border-radius: 50%;\n",
              "      cursor: pointer;\n",
              "      display: none;\n",
              "      fill: #1967D2;\n",
              "      height: 32px;\n",
              "      padding: 0 0 0 0;\n",
              "      width: 32px;\n",
              "    }\n",
              "\n",
              "    .colab-df-convert:hover {\n",
              "      background-color: #E2EBFA;\n",
              "      box-shadow: 0px 1px 2px rgba(60, 64, 67, 0.3), 0px 1px 3px 1px rgba(60, 64, 67, 0.15);\n",
              "      fill: #174EA6;\n",
              "    }\n",
              "\n",
              "    [theme=dark] .colab-df-convert {\n",
              "      background-color: #3B4455;\n",
              "      fill: #D2E3FC;\n",
              "    }\n",
              "\n",
              "    [theme=dark] .colab-df-convert:hover {\n",
              "      background-color: #434B5C;\n",
              "      box-shadow: 0px 1px 3px 1px rgba(0, 0, 0, 0.15);\n",
              "      filter: drop-shadow(0px 1px 2px rgba(0, 0, 0, 0.3));\n",
              "      fill: #FFFFFF;\n",
              "    }\n",
              "  </style>\n",
              "\n",
              "      <script>\n",
              "        const buttonEl =\n",
              "          document.querySelector('#df-cb867863-9ffe-4338-bf98-76377895474b button.colab-df-convert');\n",
              "        buttonEl.style.display =\n",
              "          google.colab.kernel.accessAllowed ? 'block' : 'none';\n",
              "\n",
              "        async function convertToInteractive(key) {\n",
              "          const element = document.querySelector('#df-cb867863-9ffe-4338-bf98-76377895474b');\n",
              "          const dataTable =\n",
              "            await google.colab.kernel.invokeFunction('convertToInteractive',\n",
              "                                                     [key], {});\n",
              "          if (!dataTable) return;\n",
              "\n",
              "          const docLinkHtml = 'Like what you see? Visit the ' +\n",
              "            '<a target=\"_blank\" href=https://colab.research.google.com/notebooks/data_table.ipynb>data table notebook</a>'\n",
              "            + ' to learn more about interactive tables.';\n",
              "          element.innerHTML = '';\n",
              "          dataTable['output_type'] = 'display_data';\n",
              "          await google.colab.output.renderOutput(dataTable, element);\n",
              "          const docLink = document.createElement('div');\n",
              "          docLink.innerHTML = docLinkHtml;\n",
              "          element.appendChild(docLink);\n",
              "        }\n",
              "      </script>\n",
              "    </div>\n",
              "  </div>\n",
              "  "
            ]
          },
          "metadata": {},
          "execution_count": 4
        }
      ]
    },
    {
      "cell_type": "code",
      "source": [
        "X = df.iloc[:,:-1]\n",
        "y = df.iloc[: ,-1]\n",
        "\n",
        "print(X.shape , y.shape)"
      ],
      "metadata": {
        "colab": {
          "base_uri": "https://localhost:8080/"
        },
        "id": "W0mqrGv8Pbb5",
        "outputId": "f84d1949-3e0d-4888-a4f6-8ab0a9f7fad8"
      },
      "execution_count": 5,
      "outputs": [
        {
          "output_type": "stream",
          "name": "stdout",
          "text": [
            "(1093, 8) (1093,)\n"
          ]
        }
      ]
    },
    {
      "cell_type": "code",
      "source": [
        "\n",
        "scaler.fit\n"
      ],
      "metadata": {
        "id": "t3I_IvfzV6_q"
      },
      "execution_count": null,
      "outputs": []
    },
    {
      "cell_type": "code",
      "source": [
        "X.isnull().sum()"
      ],
      "metadata": {
        "colab": {
          "base_uri": "https://localhost:8080/"
        },
        "id": "eo8-7MIcPbeZ",
        "outputId": "8153affb-27ac-446b-d06c-f7bb0824d2f0"
      },
      "execution_count": 6,
      "outputs": [
        {
          "output_type": "execute_result",
          "data": {
            "text/plain": [
              "T      0\n",
              "TM     0\n",
              "Tm     0\n",
              "SLP    0\n",
              "H      0\n",
              "VV     0\n",
              "V      0\n",
              "VM     0\n",
              "dtype: int64"
            ]
          },
          "metadata": {},
          "execution_count": 6
        }
      ]
    },
    {
      "cell_type": "code",
      "source": [
        "y.isnull().sum()"
      ],
      "metadata": {
        "colab": {
          "base_uri": "https://localhost:8080/"
        },
        "id": "EDgGSBWtPbgr",
        "outputId": "cb623e76-4be7-4081-a67b-38216a2e690d"
      },
      "execution_count": 7,
      "outputs": [
        {
          "output_type": "execute_result",
          "data": {
            "text/plain": [
              "1"
            ]
          },
          "metadata": {},
          "execution_count": 7
        }
      ]
    },
    {
      "cell_type": "markdown",
      "source": [
        "###Hyperparameters\n",
        "1. No of hidden layers\n",
        "2. No of neurons per layer\n",
        "3. Learning rate"
      ],
      "metadata": {
        "id": "5ruUUmHHTCwg"
      }
    },
    {
      "cell_type": "markdown",
      "source": [
        "##Template code for Keras-Tuner "
      ],
      "metadata": {
        "id": "fvD6QmOfSJFl"
      }
    },
    {
      "cell_type": "code",
      "source": [
        "from tensorflow import keras\n",
        "\n",
        "def model_builder(hp):\n",
        "    model = keras.Sequential()\n",
        "    for i in range(hp.Int('num_layers', 2, 20)):\n",
        "        model.add(keras.layers.Dense(units=hp.Int('units_' + str(i),\n",
        "                                            min_value=32,\n",
        "                                            max_value=128,\n",
        "                                            step=16),\n",
        "                               activation='relu'))\n",
        "    model.add(keras.layers.Dense(1, activation='linear'))\n",
        "    model.compile(\n",
        "        optimizer=keras.optimizers.Adam(\n",
        "            hp.Choice('learning_rate', [1e-2, 1e-3, 1e-4])),\n",
        "        loss='mean_absolute_error',\n",
        "        metrics=['mean_absolute_error'])\n",
        "    return model"
      ],
      "metadata": {
        "id": "O2I-7DP8PbjY"
      },
      "execution_count": 32,
      "outputs": []
    },
    {
      "cell_type": "code",
      "source": [
        "tuner = RandomSearch(\n",
        "    model_builder ,\n",
        "    objective = 'val_mean_absolute_error' ,\n",
        "    max_trials = 5 ,\n",
        "    executions_per_trial = 3,\n",
        "    directory = \"aqi\",\n",
        "    project_name = \"AQI\"\n",
        "\n",
        ")"
      ],
      "metadata": {
        "id": "jIqcGtI4PbmQ"
      },
      "execution_count": 33,
      "outputs": []
    },
    {
      "cell_type": "code",
      "source": [
        "from sklearn.model_selection import train_test_split\n",
        "\n",
        "X_train , X_test ,y_train , y_test = train_test_split(X,y)"
      ],
      "metadata": {
        "id": "a_S7rhPcPbpF"
      },
      "execution_count": 34,
      "outputs": []
    },
    {
      "cell_type": "code",
      "source": [
        "from sklearn.preprocessing import StandardScaler\n",
        "\n",
        "scaler = StandardScaler()\n",
        "\n",
        "scaler.fit(X_train)\n",
        "X_train_scaled = scaler.transform(X_train)\n",
        "X_test_scaled = scaler.transform(X_test)"
      ],
      "metadata": {
        "id": "oU4sW6Z7WIc3"
      },
      "execution_count": 35,
      "outputs": []
    },
    {
      "cell_type": "code",
      "source": [
        "X_trained_scaled = pd.DataFrame(X_train_scaled  ,columns = X_train.columns)\n",
        "X_test_scaled = pd.DataFrame(X_test_scaled , columns = X_test.columns)"
      ],
      "metadata": {
        "id": "aliVT486WWGy"
      },
      "execution_count": 36,
      "outputs": []
    },
    {
      "cell_type": "code",
      "source": [
        "X_trained_scaled.head()"
      ],
      "metadata": {
        "colab": {
          "base_uri": "https://localhost:8080/",
          "height": 206
        },
        "id": "qWVamjATWi4T",
        "outputId": "256eee1a-9d2c-49a3-9fe4-42c956857bc7"
      },
      "execution_count": 37,
      "outputs": [
        {
          "output_type": "execute_result",
          "data": {
            "text/plain": [
              "          T        TM        Tm       SLP         H        VV         V  \\\n",
              "0  0.081035  0.011160  0.223943  0.091183  0.833941 -0.539706 -0.896940   \n",
              "1 -1.848092 -1.961452 -1.680522  0.520452  0.202821 -0.802500  0.669358   \n",
              "2 -1.223554 -0.982675 -1.072714  0.882647  0.139709  0.380073 -0.270421   \n",
              "3  1.024780  0.598427  1.236957 -1.102719  0.202821  1.168455  0.799883   \n",
              "4 -0.265930 -0.365293 -0.370358  0.788744 -0.049627 -0.802500 -0.896940   \n",
              "\n",
              "         VM  \n",
              "0 -0.658991  \n",
              "1  1.469434  \n",
              "2 -0.126885  \n",
              "3  0.117596  \n",
              "4 -0.658991  "
            ],
            "text/html": [
              "\n",
              "  <div id=\"df-4f6b63d1-6b91-4502-8aa8-c8584a8c16f3\">\n",
              "    <div class=\"colab-df-container\">\n",
              "      <div>\n",
              "<style scoped>\n",
              "    .dataframe tbody tr th:only-of-type {\n",
              "        vertical-align: middle;\n",
              "    }\n",
              "\n",
              "    .dataframe tbody tr th {\n",
              "        vertical-align: top;\n",
              "    }\n",
              "\n",
              "    .dataframe thead th {\n",
              "        text-align: right;\n",
              "    }\n",
              "</style>\n",
              "<table border=\"1\" class=\"dataframe\">\n",
              "  <thead>\n",
              "    <tr style=\"text-align: right;\">\n",
              "      <th></th>\n",
              "      <th>T</th>\n",
              "      <th>TM</th>\n",
              "      <th>Tm</th>\n",
              "      <th>SLP</th>\n",
              "      <th>H</th>\n",
              "      <th>VV</th>\n",
              "      <th>V</th>\n",
              "      <th>VM</th>\n",
              "    </tr>\n",
              "  </thead>\n",
              "  <tbody>\n",
              "    <tr>\n",
              "      <th>0</th>\n",
              "      <td>0.081035</td>\n",
              "      <td>0.011160</td>\n",
              "      <td>0.223943</td>\n",
              "      <td>0.091183</td>\n",
              "      <td>0.833941</td>\n",
              "      <td>-0.539706</td>\n",
              "      <td>-0.896940</td>\n",
              "      <td>-0.658991</td>\n",
              "    </tr>\n",
              "    <tr>\n",
              "      <th>1</th>\n",
              "      <td>-1.848092</td>\n",
              "      <td>-1.961452</td>\n",
              "      <td>-1.680522</td>\n",
              "      <td>0.520452</td>\n",
              "      <td>0.202821</td>\n",
              "      <td>-0.802500</td>\n",
              "      <td>0.669358</td>\n",
              "      <td>1.469434</td>\n",
              "    </tr>\n",
              "    <tr>\n",
              "      <th>2</th>\n",
              "      <td>-1.223554</td>\n",
              "      <td>-0.982675</td>\n",
              "      <td>-1.072714</td>\n",
              "      <td>0.882647</td>\n",
              "      <td>0.139709</td>\n",
              "      <td>0.380073</td>\n",
              "      <td>-0.270421</td>\n",
              "      <td>-0.126885</td>\n",
              "    </tr>\n",
              "    <tr>\n",
              "      <th>3</th>\n",
              "      <td>1.024780</td>\n",
              "      <td>0.598427</td>\n",
              "      <td>1.236957</td>\n",
              "      <td>-1.102719</td>\n",
              "      <td>0.202821</td>\n",
              "      <td>1.168455</td>\n",
              "      <td>0.799883</td>\n",
              "      <td>0.117596</td>\n",
              "    </tr>\n",
              "    <tr>\n",
              "      <th>4</th>\n",
              "      <td>-0.265930</td>\n",
              "      <td>-0.365293</td>\n",
              "      <td>-0.370358</td>\n",
              "      <td>0.788744</td>\n",
              "      <td>-0.049627</td>\n",
              "      <td>-0.802500</td>\n",
              "      <td>-0.896940</td>\n",
              "      <td>-0.658991</td>\n",
              "    </tr>\n",
              "  </tbody>\n",
              "</table>\n",
              "</div>\n",
              "      <button class=\"colab-df-convert\" onclick=\"convertToInteractive('df-4f6b63d1-6b91-4502-8aa8-c8584a8c16f3')\"\n",
              "              title=\"Convert this dataframe to an interactive table.\"\n",
              "              style=\"display:none;\">\n",
              "        \n",
              "  <svg xmlns=\"http://www.w3.org/2000/svg\" height=\"24px\"viewBox=\"0 0 24 24\"\n",
              "       width=\"24px\">\n",
              "    <path d=\"M0 0h24v24H0V0z\" fill=\"none\"/>\n",
              "    <path d=\"M18.56 5.44l.94 2.06.94-2.06 2.06-.94-2.06-.94-.94-2.06-.94 2.06-2.06.94zm-11 1L8.5 8.5l.94-2.06 2.06-.94-2.06-.94L8.5 2.5l-.94 2.06-2.06.94zm10 10l.94 2.06.94-2.06 2.06-.94-2.06-.94-.94-2.06-.94 2.06-2.06.94z\"/><path d=\"M17.41 7.96l-1.37-1.37c-.4-.4-.92-.59-1.43-.59-.52 0-1.04.2-1.43.59L10.3 9.45l-7.72 7.72c-.78.78-.78 2.05 0 2.83L4 21.41c.39.39.9.59 1.41.59.51 0 1.02-.2 1.41-.59l7.78-7.78 2.81-2.81c.8-.78.8-2.07 0-2.86zM5.41 20L4 18.59l7.72-7.72 1.47 1.35L5.41 20z\"/>\n",
              "  </svg>\n",
              "      </button>\n",
              "      \n",
              "  <style>\n",
              "    .colab-df-container {\n",
              "      display:flex;\n",
              "      flex-wrap:wrap;\n",
              "      gap: 12px;\n",
              "    }\n",
              "\n",
              "    .colab-df-convert {\n",
              "      background-color: #E8F0FE;\n",
              "      border: none;\n",
              "      border-radius: 50%;\n",
              "      cursor: pointer;\n",
              "      display: none;\n",
              "      fill: #1967D2;\n",
              "      height: 32px;\n",
              "      padding: 0 0 0 0;\n",
              "      width: 32px;\n",
              "    }\n",
              "\n",
              "    .colab-df-convert:hover {\n",
              "      background-color: #E2EBFA;\n",
              "      box-shadow: 0px 1px 2px rgba(60, 64, 67, 0.3), 0px 1px 3px 1px rgba(60, 64, 67, 0.15);\n",
              "      fill: #174EA6;\n",
              "    }\n",
              "\n",
              "    [theme=dark] .colab-df-convert {\n",
              "      background-color: #3B4455;\n",
              "      fill: #D2E3FC;\n",
              "    }\n",
              "\n",
              "    [theme=dark] .colab-df-convert:hover {\n",
              "      background-color: #434B5C;\n",
              "      box-shadow: 0px 1px 3px 1px rgba(0, 0, 0, 0.15);\n",
              "      filter: drop-shadow(0px 1px 2px rgba(0, 0, 0, 0.3));\n",
              "      fill: #FFFFFF;\n",
              "    }\n",
              "  </style>\n",
              "\n",
              "      <script>\n",
              "        const buttonEl =\n",
              "          document.querySelector('#df-4f6b63d1-6b91-4502-8aa8-c8584a8c16f3 button.colab-df-convert');\n",
              "        buttonEl.style.display =\n",
              "          google.colab.kernel.accessAllowed ? 'block' : 'none';\n",
              "\n",
              "        async function convertToInteractive(key) {\n",
              "          const element = document.querySelector('#df-4f6b63d1-6b91-4502-8aa8-c8584a8c16f3');\n",
              "          const dataTable =\n",
              "            await google.colab.kernel.invokeFunction('convertToInteractive',\n",
              "                                                     [key], {});\n",
              "          if (!dataTable) return;\n",
              "\n",
              "          const docLinkHtml = 'Like what you see? Visit the ' +\n",
              "            '<a target=\"_blank\" href=https://colab.research.google.com/notebooks/data_table.ipynb>data table notebook</a>'\n",
              "            + ' to learn more about interactive tables.';\n",
              "          element.innerHTML = '';\n",
              "          dataTable['output_type'] = 'display_data';\n",
              "          await google.colab.output.renderOutput(dataTable, element);\n",
              "          const docLink = document.createElement('div');\n",
              "          docLink.innerHTML = docLinkHtml;\n",
              "          element.appendChild(docLink);\n",
              "        }\n",
              "      </script>\n",
              "    </div>\n",
              "  </div>\n",
              "  "
            ]
          },
          "metadata": {},
          "execution_count": 37
        }
      ]
    },
    {
      "cell_type": "code",
      "source": [
        "X_test_scaled.head()"
      ],
      "metadata": {
        "colab": {
          "base_uri": "https://localhost:8080/",
          "height": 206
        },
        "id": "Bt3lXTt7WmUF",
        "outputId": "b650572c-13f4-4d5d-e031-73c5a9c080aa"
      },
      "execution_count": 42,
      "outputs": [
        {
          "output_type": "execute_result",
          "data": {
            "text/plain": [
              "          T        TM        Tm       SLP         H        VV         V  \\\n",
              "0 -1.140283 -1.027849 -1.207783  1.097281  0.265933  0.117279 -0.792520   \n",
              "1 -1.403976 -1.524767 -1.491426  1.271671  0.202821  0.511470  0.121154   \n",
              "2  0.691694  0.402671  0.885779 -1.371011  1.086389  0.511470  0.121154   \n",
              "3  0.608422  0.508078  0.885779 -0.606377  0.960165 -0.539706 -1.236305   \n",
              "4  0.719451  0.477962  1.047861 -1.303938  0.770829 -0.145515 -0.113791   \n",
              "\n",
              "         VM  \n",
              "0 -0.658991  \n",
              "1  0.117596  \n",
              "2  0.376459  \n",
              "3 -1.162335  \n",
              "4 -0.126885  "
            ],
            "text/html": [
              "\n",
              "  <div id=\"df-eb0dd9c3-5aca-482b-9325-94ec76b30e85\">\n",
              "    <div class=\"colab-df-container\">\n",
              "      <div>\n",
              "<style scoped>\n",
              "    .dataframe tbody tr th:only-of-type {\n",
              "        vertical-align: middle;\n",
              "    }\n",
              "\n",
              "    .dataframe tbody tr th {\n",
              "        vertical-align: top;\n",
              "    }\n",
              "\n",
              "    .dataframe thead th {\n",
              "        text-align: right;\n",
              "    }\n",
              "</style>\n",
              "<table border=\"1\" class=\"dataframe\">\n",
              "  <thead>\n",
              "    <tr style=\"text-align: right;\">\n",
              "      <th></th>\n",
              "      <th>T</th>\n",
              "      <th>TM</th>\n",
              "      <th>Tm</th>\n",
              "      <th>SLP</th>\n",
              "      <th>H</th>\n",
              "      <th>VV</th>\n",
              "      <th>V</th>\n",
              "      <th>VM</th>\n",
              "    </tr>\n",
              "  </thead>\n",
              "  <tbody>\n",
              "    <tr>\n",
              "      <th>0</th>\n",
              "      <td>-1.140283</td>\n",
              "      <td>-1.027849</td>\n",
              "      <td>-1.207783</td>\n",
              "      <td>1.097281</td>\n",
              "      <td>0.265933</td>\n",
              "      <td>0.117279</td>\n",
              "      <td>-0.792520</td>\n",
              "      <td>-0.658991</td>\n",
              "    </tr>\n",
              "    <tr>\n",
              "      <th>1</th>\n",
              "      <td>-1.403976</td>\n",
              "      <td>-1.524767</td>\n",
              "      <td>-1.491426</td>\n",
              "      <td>1.271671</td>\n",
              "      <td>0.202821</td>\n",
              "      <td>0.511470</td>\n",
              "      <td>0.121154</td>\n",
              "      <td>0.117596</td>\n",
              "    </tr>\n",
              "    <tr>\n",
              "      <th>2</th>\n",
              "      <td>0.691694</td>\n",
              "      <td>0.402671</td>\n",
              "      <td>0.885779</td>\n",
              "      <td>-1.371011</td>\n",
              "      <td>1.086389</td>\n",
              "      <td>0.511470</td>\n",
              "      <td>0.121154</td>\n",
              "      <td>0.376459</td>\n",
              "    </tr>\n",
              "    <tr>\n",
              "      <th>3</th>\n",
              "      <td>0.608422</td>\n",
              "      <td>0.508078</td>\n",
              "      <td>0.885779</td>\n",
              "      <td>-0.606377</td>\n",
              "      <td>0.960165</td>\n",
              "      <td>-0.539706</td>\n",
              "      <td>-1.236305</td>\n",
              "      <td>-1.162335</td>\n",
              "    </tr>\n",
              "    <tr>\n",
              "      <th>4</th>\n",
              "      <td>0.719451</td>\n",
              "      <td>0.477962</td>\n",
              "      <td>1.047861</td>\n",
              "      <td>-1.303938</td>\n",
              "      <td>0.770829</td>\n",
              "      <td>-0.145515</td>\n",
              "      <td>-0.113791</td>\n",
              "      <td>-0.126885</td>\n",
              "    </tr>\n",
              "  </tbody>\n",
              "</table>\n",
              "</div>\n",
              "      <button class=\"colab-df-convert\" onclick=\"convertToInteractive('df-eb0dd9c3-5aca-482b-9325-94ec76b30e85')\"\n",
              "              title=\"Convert this dataframe to an interactive table.\"\n",
              "              style=\"display:none;\">\n",
              "        \n",
              "  <svg xmlns=\"http://www.w3.org/2000/svg\" height=\"24px\"viewBox=\"0 0 24 24\"\n",
              "       width=\"24px\">\n",
              "    <path d=\"M0 0h24v24H0V0z\" fill=\"none\"/>\n",
              "    <path d=\"M18.56 5.44l.94 2.06.94-2.06 2.06-.94-2.06-.94-.94-2.06-.94 2.06-2.06.94zm-11 1L8.5 8.5l.94-2.06 2.06-.94-2.06-.94L8.5 2.5l-.94 2.06-2.06.94zm10 10l.94 2.06.94-2.06 2.06-.94-2.06-.94-.94-2.06-.94 2.06-2.06.94z\"/><path d=\"M17.41 7.96l-1.37-1.37c-.4-.4-.92-.59-1.43-.59-.52 0-1.04.2-1.43.59L10.3 9.45l-7.72 7.72c-.78.78-.78 2.05 0 2.83L4 21.41c.39.39.9.59 1.41.59.51 0 1.02-.2 1.41-.59l7.78-7.78 2.81-2.81c.8-.78.8-2.07 0-2.86zM5.41 20L4 18.59l7.72-7.72 1.47 1.35L5.41 20z\"/>\n",
              "  </svg>\n",
              "      </button>\n",
              "      \n",
              "  <style>\n",
              "    .colab-df-container {\n",
              "      display:flex;\n",
              "      flex-wrap:wrap;\n",
              "      gap: 12px;\n",
              "    }\n",
              "\n",
              "    .colab-df-convert {\n",
              "      background-color: #E8F0FE;\n",
              "      border: none;\n",
              "      border-radius: 50%;\n",
              "      cursor: pointer;\n",
              "      display: none;\n",
              "      fill: #1967D2;\n",
              "      height: 32px;\n",
              "      padding: 0 0 0 0;\n",
              "      width: 32px;\n",
              "    }\n",
              "\n",
              "    .colab-df-convert:hover {\n",
              "      background-color: #E2EBFA;\n",
              "      box-shadow: 0px 1px 2px rgba(60, 64, 67, 0.3), 0px 1px 3px 1px rgba(60, 64, 67, 0.15);\n",
              "      fill: #174EA6;\n",
              "    }\n",
              "\n",
              "    [theme=dark] .colab-df-convert {\n",
              "      background-color: #3B4455;\n",
              "      fill: #D2E3FC;\n",
              "    }\n",
              "\n",
              "    [theme=dark] .colab-df-convert:hover {\n",
              "      background-color: #434B5C;\n",
              "      box-shadow: 0px 1px 3px 1px rgba(0, 0, 0, 0.15);\n",
              "      filter: drop-shadow(0px 1px 2px rgba(0, 0, 0, 0.3));\n",
              "      fill: #FFFFFF;\n",
              "    }\n",
              "  </style>\n",
              "\n",
              "      <script>\n",
              "        const buttonEl =\n",
              "          document.querySelector('#df-eb0dd9c3-5aca-482b-9325-94ec76b30e85 button.colab-df-convert');\n",
              "        buttonEl.style.display =\n",
              "          google.colab.kernel.accessAllowed ? 'block' : 'none';\n",
              "\n",
              "        async function convertToInteractive(key) {\n",
              "          const element = document.querySelector('#df-eb0dd9c3-5aca-482b-9325-94ec76b30e85');\n",
              "          const dataTable =\n",
              "            await google.colab.kernel.invokeFunction('convertToInteractive',\n",
              "                                                     [key], {});\n",
              "          if (!dataTable) return;\n",
              "\n",
              "          const docLinkHtml = 'Like what you see? Visit the ' +\n",
              "            '<a target=\"_blank\" href=https://colab.research.google.com/notebooks/data_table.ipynb>data table notebook</a>'\n",
              "            + ' to learn more about interactive tables.';\n",
              "          element.innerHTML = '';\n",
              "          dataTable['output_type'] = 'display_data';\n",
              "          await google.colab.output.renderOutput(dataTable, element);\n",
              "          const docLink = document.createElement('div');\n",
              "          docLink.innerHTML = docLinkHtml;\n",
              "          element.appendChild(docLink);\n",
              "        }\n",
              "      </script>\n",
              "    </div>\n",
              "  </div>\n",
              "  "
            ]
          },
          "metadata": {},
          "execution_count": 42
        }
      ]
    },
    {
      "cell_type": "code",
      "source": [
        "tuner.search(X_train_scaled , y_train , epochs = 20 , validation_data = (X_test_scaled,y_test))"
      ],
      "metadata": {
        "colab": {
          "base_uri": "https://localhost:8080/",
          "height": 1000
        },
        "id": "-v98kzCuT1bX",
        "outputId": "c4eed2e0-78cf-4251-ed21-1582970a7996"
      },
      "execution_count": 41,
      "outputs": [
        {
          "output_type": "stream",
          "name": "stdout",
          "text": [
            "Trial 5 Complete [00h 00m 24s]\n",
            "val_mean_absolute_error: nan\n",
            "\n",
            "Best val_mean_absolute_error So Far: nan\n",
            "Total elapsed time: 00h 03m 15s\n",
            "INFO:tensorflow:Oracle triggered exit\n"
          ]
        }
      ]
    },
    {
      "cell_type": "code",
      "source": [
        "print(tuner.results_summary())"
      ],
      "metadata": {
        "colab": {
          "base_uri": "https://localhost:8080/"
        },
        "id": "_JIWpAa0T1d7",
        "outputId": "721f77ea-beab-47c4-de2a-3373c9805e7e"
      },
      "execution_count": 43,
      "outputs": [
        {
          "output_type": "stream",
          "name": "stdout",
          "text": [
            "Results summary\n",
            "Results in aqi/AQI\n",
            "Showing 10 best trials\n",
            "<keras_tuner.engine.objective.Objective object at 0x7f86e880ea50>\n",
            "Trial summary\n",
            "Hyperparameters:\n",
            "num_layers: 18\n",
            "units_0: 128\n",
            "units_1: 48\n",
            "learning_rate: 0.01\n",
            "units_2: 32\n",
            "units_3: 32\n",
            "units_4: 32\n",
            "units_5: 32\n",
            "units_6: 32\n",
            "units_7: 32\n",
            "units_8: 32\n",
            "units_9: 32\n",
            "units_10: 32\n",
            "units_11: 32\n",
            "units_12: 32\n",
            "units_13: 32\n",
            "units_14: 32\n",
            "units_15: 32\n",
            "units_16: 32\n",
            "units_17: 32\n",
            "Score: nan\n",
            "Trial summary\n",
            "Hyperparameters:\n",
            "num_layers: 16\n",
            "units_0: 128\n",
            "units_1: 80\n",
            "learning_rate: 0.0001\n",
            "units_2: 80\n",
            "units_3: 96\n",
            "units_4: 96\n",
            "units_5: 112\n",
            "units_6: 96\n",
            "units_7: 112\n",
            "units_8: 112\n",
            "units_9: 112\n",
            "units_10: 48\n",
            "units_11: 80\n",
            "units_12: 96\n",
            "units_13: 32\n",
            "units_14: 112\n",
            "units_15: 64\n",
            "units_16: 128\n",
            "units_17: 112\n",
            "Score: nan\n",
            "Trial summary\n",
            "Hyperparameters:\n",
            "num_layers: 15\n",
            "units_0: 112\n",
            "units_1: 96\n",
            "learning_rate: 0.0001\n",
            "units_2: 32\n",
            "units_3: 112\n",
            "units_4: 64\n",
            "units_5: 80\n",
            "units_6: 80\n",
            "units_7: 64\n",
            "units_8: 96\n",
            "units_9: 80\n",
            "units_10: 48\n",
            "units_11: 80\n",
            "units_12: 32\n",
            "units_13: 80\n",
            "units_14: 96\n",
            "units_15: 64\n",
            "units_16: 112\n",
            "units_17: 112\n",
            "Score: nan\n",
            "Trial summary\n",
            "Hyperparameters:\n",
            "num_layers: 20\n",
            "units_0: 32\n",
            "units_1: 96\n",
            "learning_rate: 0.01\n",
            "units_2: 96\n",
            "units_3: 128\n",
            "units_4: 128\n",
            "units_5: 96\n",
            "units_6: 64\n",
            "units_7: 48\n",
            "units_8: 112\n",
            "units_9: 96\n",
            "units_10: 64\n",
            "units_11: 64\n",
            "units_12: 112\n",
            "units_13: 64\n",
            "units_14: 128\n",
            "units_15: 48\n",
            "units_16: 32\n",
            "units_17: 96\n",
            "units_18: 32\n",
            "units_19: 32\n",
            "Score: nan\n",
            "Trial summary\n",
            "Hyperparameters:\n",
            "num_layers: 17\n",
            "units_0: 48\n",
            "units_1: 80\n",
            "learning_rate: 0.0001\n",
            "units_2: 112\n",
            "units_3: 48\n",
            "units_4: 112\n",
            "units_5: 128\n",
            "units_6: 48\n",
            "units_7: 64\n",
            "units_8: 48\n",
            "units_9: 80\n",
            "units_10: 48\n",
            "units_11: 48\n",
            "units_12: 96\n",
            "units_13: 112\n",
            "units_14: 112\n",
            "units_15: 64\n",
            "units_16: 48\n",
            "units_17: 80\n",
            "units_18: 96\n",
            "units_19: 64\n",
            "Score: nan\n",
            "None\n"
          ]
        }
      ]
    },
    {
      "cell_type": "code",
      "source": [
        "'''Trial summary\n",
        "Hyperparameters:\n",
        "num_layers: 8\n",
        "units_0: 512\n",
        "units_1: 448\n",
        "learning_rate: 0.001\n",
        "units_2: 32\n",
        "units_3: 32\n",
        "units_4: 32\n",
        "units_5: 32\n",
        "units_6: 32\n",
        "units_7: 32'''"
      ],
      "metadata": {
        "colab": {
          "base_uri": "https://localhost:8080/",
          "height": 53
        },
        "id": "FYxwPIYaT1gP",
        "outputId": "7305ed29-ce6e-4239-8cc9-eb8c7df95cff"
      },
      "execution_count": 13,
      "outputs": [
        {
          "output_type": "execute_result",
          "data": {
            "text/plain": [
              "'Trial summary\\nHyperparameters:\\nnum_layers: 8\\nunits_0: 512\\nunits_1: 448\\nlearning_rate: 0.001\\nunits_2: 32\\nunits_3: 32\\nunits_4: 32\\nunits_5: 32\\nunits_6: 32\\nunits_7: 32'"
            ],
            "application/vnd.google.colaboratory.intrinsic+json": {
              "type": "string"
            }
          },
          "metadata": {},
          "execution_count": 13
        }
      ]
    },
    {
      "cell_type": "code",
      "source": [
        "# Set seed\n",
        "tf.random.set_seed(42)\n",
        "\n",
        "# Make model\n",
        "model = tf.keras.Sequential([\n",
        "                             tf.keras.layers.Dense(512 , activation = \"relu\") ,\n",
        "                             tf.keras.layers.Dense(448 , activation = \"relu\") ,\n",
        "                             tf.keras.layers.Dense(32 , activation = \"relu\") ,\n",
        "                             tf.keras.layers.Dense(32 , activation = \"relu\") ,\n",
        "                             tf.keras.layers.Dense(32 , activation = \"relu\") ,\n",
        "                             tf.keras.layers.Dense(32 , activation = \"relu\") ,\n",
        "                             tf.keras.layers.Dense(32 , activation = \"relu\") ,\n",
        "                             tf.keras.layers.Dense(32 , activation = \"relu\") ,\n",
        "                             tf.keras.layers.Dense(1 , activation = \"linear\")\n",
        "])\n",
        "\n",
        "#Compile Model\n",
        "model.compile(optimizer = tf.keras.optimizers.Adam(learning_rate = 0.001),\n",
        "    loss = \"mean_absolute_error\" ,\n",
        "    metrics = \"mean_absolute_error\")\n",
        "\n",
        "#Train Model\n",
        "history = model.fit(X_train , y_train , epochs = 100 , \n",
        "                    validation_data = (X_test , y_test))"
      ],
      "metadata": {
        "colab": {
          "base_uri": "https://localhost:8080/"
        },
        "id": "KdPu_ocyT1id",
        "outputId": "119d5181-7ce9-4618-dbdd-0a81aaae6a4c"
      },
      "execution_count": 46,
      "outputs": [
        {
          "output_type": "stream",
          "name": "stdout",
          "text": [
            "Epoch 1/100\n",
            "26/26 [==============================] - 2s 24ms/step - loss: 69.3356 - mean_absolute_error: 69.3356 - val_loss: nan - val_mean_absolute_error: nan\n",
            "Epoch 2/100\n",
            "26/26 [==============================] - 0s 11ms/step - loss: 65.5428 - mean_absolute_error: 65.5428 - val_loss: nan - val_mean_absolute_error: nan\n",
            "Epoch 3/100\n",
            "26/26 [==============================] - 0s 11ms/step - loss: 64.2490 - mean_absolute_error: 64.2490 - val_loss: nan - val_mean_absolute_error: nan\n",
            "Epoch 4/100\n",
            "26/26 [==============================] - 0s 11ms/step - loss: 63.4131 - mean_absolute_error: 63.4131 - val_loss: nan - val_mean_absolute_error: nan\n",
            "Epoch 5/100\n",
            "26/26 [==============================] - 0s 12ms/step - loss: 64.2262 - mean_absolute_error: 64.2262 - val_loss: nan - val_mean_absolute_error: nan\n",
            "Epoch 6/100\n",
            "26/26 [==============================] - 0s 10ms/step - loss: 60.9988 - mean_absolute_error: 60.9988 - val_loss: nan - val_mean_absolute_error: nan\n",
            "Epoch 7/100\n",
            "26/26 [==============================] - 0s 11ms/step - loss: 58.1233 - mean_absolute_error: 58.1233 - val_loss: nan - val_mean_absolute_error: nan\n",
            "Epoch 8/100\n",
            "26/26 [==============================] - 0s 9ms/step - loss: 54.7350 - mean_absolute_error: 54.7350 - val_loss: nan - val_mean_absolute_error: nan\n",
            "Epoch 9/100\n",
            "26/26 [==============================] - 0s 11ms/step - loss: 50.6015 - mean_absolute_error: 50.6015 - val_loss: nan - val_mean_absolute_error: nan\n",
            "Epoch 10/100\n",
            "26/26 [==============================] - 0s 10ms/step - loss: 47.7193 - mean_absolute_error: 47.7193 - val_loss: nan - val_mean_absolute_error: nan\n",
            "Epoch 11/100\n",
            "26/26 [==============================] - 0s 12ms/step - loss: 46.6492 - mean_absolute_error: 46.6492 - val_loss: nan - val_mean_absolute_error: nan\n",
            "Epoch 12/100\n",
            "26/26 [==============================] - 0s 14ms/step - loss: 46.4092 - mean_absolute_error: 46.4092 - val_loss: nan - val_mean_absolute_error: nan\n",
            "Epoch 13/100\n",
            "26/26 [==============================] - 0s 9ms/step - loss: 45.2730 - mean_absolute_error: 45.2730 - val_loss: nan - val_mean_absolute_error: nan\n",
            "Epoch 14/100\n",
            "26/26 [==============================] - 0s 6ms/step - loss: 45.9823 - mean_absolute_error: 45.9823 - val_loss: nan - val_mean_absolute_error: nan\n",
            "Epoch 15/100\n",
            "26/26 [==============================] - 0s 6ms/step - loss: 45.2716 - mean_absolute_error: 45.2716 - val_loss: nan - val_mean_absolute_error: nan\n",
            "Epoch 16/100\n",
            "26/26 [==============================] - 0s 8ms/step - loss: 45.0853 - mean_absolute_error: 45.0853 - val_loss: nan - val_mean_absolute_error: nan\n",
            "Epoch 17/100\n",
            "26/26 [==============================] - 0s 8ms/step - loss: 44.4626 - mean_absolute_error: 44.4626 - val_loss: nan - val_mean_absolute_error: nan\n",
            "Epoch 18/100\n",
            "26/26 [==============================] - 0s 8ms/step - loss: 44.8541 - mean_absolute_error: 44.8541 - val_loss: nan - val_mean_absolute_error: nan\n",
            "Epoch 19/100\n",
            "26/26 [==============================] - 0s 6ms/step - loss: 46.0056 - mean_absolute_error: 46.0056 - val_loss: nan - val_mean_absolute_error: nan\n",
            "Epoch 20/100\n",
            "26/26 [==============================] - 0s 6ms/step - loss: 44.7035 - mean_absolute_error: 44.7035 - val_loss: nan - val_mean_absolute_error: nan\n",
            "Epoch 21/100\n",
            "26/26 [==============================] - 0s 6ms/step - loss: 45.8609 - mean_absolute_error: 45.8609 - val_loss: nan - val_mean_absolute_error: nan\n",
            "Epoch 22/100\n",
            "26/26 [==============================] - 0s 6ms/step - loss: 43.5195 - mean_absolute_error: 43.5195 - val_loss: nan - val_mean_absolute_error: nan\n",
            "Epoch 23/100\n",
            "26/26 [==============================] - 0s 6ms/step - loss: 43.7693 - mean_absolute_error: 43.7693 - val_loss: nan - val_mean_absolute_error: nan\n",
            "Epoch 24/100\n",
            "26/26 [==============================] - 0s 6ms/step - loss: 44.0741 - mean_absolute_error: 44.0741 - val_loss: nan - val_mean_absolute_error: nan\n",
            "Epoch 25/100\n",
            "26/26 [==============================] - 0s 8ms/step - loss: 43.6641 - mean_absolute_error: 43.6641 - val_loss: nan - val_mean_absolute_error: nan\n",
            "Epoch 26/100\n",
            "26/26 [==============================] - 0s 6ms/step - loss: 43.9010 - mean_absolute_error: 43.9010 - val_loss: nan - val_mean_absolute_error: nan\n",
            "Epoch 27/100\n",
            "26/26 [==============================] - 0s 8ms/step - loss: 44.2342 - mean_absolute_error: 44.2342 - val_loss: nan - val_mean_absolute_error: nan\n",
            "Epoch 28/100\n",
            "26/26 [==============================] - 0s 8ms/step - loss: 43.2665 - mean_absolute_error: 43.2665 - val_loss: nan - val_mean_absolute_error: nan\n",
            "Epoch 29/100\n",
            "26/26 [==============================] - 0s 6ms/step - loss: 44.1510 - mean_absolute_error: 44.1510 - val_loss: nan - val_mean_absolute_error: nan\n",
            "Epoch 30/100\n",
            "26/26 [==============================] - 0s 8ms/step - loss: 44.3840 - mean_absolute_error: 44.3840 - val_loss: nan - val_mean_absolute_error: nan\n",
            "Epoch 31/100\n",
            "26/26 [==============================] - 0s 6ms/step - loss: 43.5079 - mean_absolute_error: 43.5079 - val_loss: nan - val_mean_absolute_error: nan\n",
            "Epoch 32/100\n",
            "26/26 [==============================] - 0s 6ms/step - loss: 44.7630 - mean_absolute_error: 44.7630 - val_loss: nan - val_mean_absolute_error: nan\n",
            "Epoch 33/100\n",
            "26/26 [==============================] - 0s 8ms/step - loss: 44.7705 - mean_absolute_error: 44.7705 - val_loss: nan - val_mean_absolute_error: nan\n",
            "Epoch 34/100\n",
            "26/26 [==============================] - 0s 7ms/step - loss: 42.6013 - mean_absolute_error: 42.6013 - val_loss: nan - val_mean_absolute_error: nan\n",
            "Epoch 35/100\n",
            "26/26 [==============================] - 0s 8ms/step - loss: 43.2029 - mean_absolute_error: 43.2029 - val_loss: nan - val_mean_absolute_error: nan\n",
            "Epoch 36/100\n",
            "26/26 [==============================] - 0s 8ms/step - loss: 44.9479 - mean_absolute_error: 44.9479 - val_loss: nan - val_mean_absolute_error: nan\n",
            "Epoch 37/100\n",
            "26/26 [==============================] - 0s 6ms/step - loss: 43.0590 - mean_absolute_error: 43.0590 - val_loss: nan - val_mean_absolute_error: nan\n",
            "Epoch 38/100\n",
            "26/26 [==============================] - 0s 6ms/step - loss: 44.7136 - mean_absolute_error: 44.7136 - val_loss: nan - val_mean_absolute_error: nan\n",
            "Epoch 39/100\n",
            "26/26 [==============================] - 0s 6ms/step - loss: 45.1868 - mean_absolute_error: 45.1868 - val_loss: nan - val_mean_absolute_error: nan\n",
            "Epoch 40/100\n",
            "26/26 [==============================] - 0s 6ms/step - loss: 43.2154 - mean_absolute_error: 43.2154 - val_loss: nan - val_mean_absolute_error: nan\n",
            "Epoch 41/100\n",
            "26/26 [==============================] - 0s 6ms/step - loss: 42.7176 - mean_absolute_error: 42.7176 - val_loss: nan - val_mean_absolute_error: nan\n",
            "Epoch 42/100\n",
            "26/26 [==============================] - 0s 8ms/step - loss: 42.1351 - mean_absolute_error: 42.1351 - val_loss: nan - val_mean_absolute_error: nan\n",
            "Epoch 43/100\n",
            "26/26 [==============================] - 0s 8ms/step - loss: 42.7869 - mean_absolute_error: 42.7869 - val_loss: nan - val_mean_absolute_error: nan\n",
            "Epoch 44/100\n",
            "26/26 [==============================] - 0s 8ms/step - loss: 45.1664 - mean_absolute_error: 45.1664 - val_loss: nan - val_mean_absolute_error: nan\n",
            "Epoch 45/100\n",
            "26/26 [==============================] - 0s 6ms/step - loss: 45.5421 - mean_absolute_error: 45.5421 - val_loss: nan - val_mean_absolute_error: nan\n",
            "Epoch 46/100\n",
            "26/26 [==============================] - 0s 8ms/step - loss: 43.1713 - mean_absolute_error: 43.1713 - val_loss: nan - val_mean_absolute_error: nan\n",
            "Epoch 47/100\n",
            "26/26 [==============================] - 0s 6ms/step - loss: 42.8016 - mean_absolute_error: 42.8016 - val_loss: nan - val_mean_absolute_error: nan\n",
            "Epoch 48/100\n",
            "26/26 [==============================] - 0s 8ms/step - loss: 43.1766 - mean_absolute_error: 43.1766 - val_loss: nan - val_mean_absolute_error: nan\n",
            "Epoch 49/100\n",
            "26/26 [==============================] - 0s 6ms/step - loss: 42.3570 - mean_absolute_error: 42.3570 - val_loss: nan - val_mean_absolute_error: nan\n",
            "Epoch 50/100\n",
            "26/26 [==============================] - 0s 6ms/step - loss: 41.9286 - mean_absolute_error: 41.9286 - val_loss: nan - val_mean_absolute_error: nan\n",
            "Epoch 51/100\n",
            "26/26 [==============================] - 0s 6ms/step - loss: 42.0723 - mean_absolute_error: 42.0723 - val_loss: nan - val_mean_absolute_error: nan\n",
            "Epoch 52/100\n",
            "26/26 [==============================] - 0s 7ms/step - loss: 42.7036 - mean_absolute_error: 42.7036 - val_loss: nan - val_mean_absolute_error: nan\n",
            "Epoch 53/100\n",
            "26/26 [==============================] - 0s 8ms/step - loss: 42.3306 - mean_absolute_error: 42.3306 - val_loss: nan - val_mean_absolute_error: nan\n",
            "Epoch 54/100\n",
            "26/26 [==============================] - 0s 8ms/step - loss: 42.1475 - mean_absolute_error: 42.1475 - val_loss: nan - val_mean_absolute_error: nan\n",
            "Epoch 55/100\n",
            "26/26 [==============================] - 0s 6ms/step - loss: 42.8032 - mean_absolute_error: 42.8032 - val_loss: nan - val_mean_absolute_error: nan\n",
            "Epoch 56/100\n",
            "26/26 [==============================] - 0s 7ms/step - loss: 41.4855 - mean_absolute_error: 41.4855 - val_loss: nan - val_mean_absolute_error: nan\n",
            "Epoch 57/100\n",
            "26/26 [==============================] - 0s 6ms/step - loss: 41.7240 - mean_absolute_error: 41.7240 - val_loss: nan - val_mean_absolute_error: nan\n",
            "Epoch 58/100\n",
            "26/26 [==============================] - 0s 6ms/step - loss: 42.1384 - mean_absolute_error: 42.1384 - val_loss: nan - val_mean_absolute_error: nan\n",
            "Epoch 59/100\n",
            "26/26 [==============================] - 0s 8ms/step - loss: 42.7346 - mean_absolute_error: 42.7346 - val_loss: nan - val_mean_absolute_error: nan\n",
            "Epoch 60/100\n",
            "26/26 [==============================] - 0s 6ms/step - loss: 41.4653 - mean_absolute_error: 41.4653 - val_loss: nan - val_mean_absolute_error: nan\n",
            "Epoch 61/100\n",
            "26/26 [==============================] - 0s 6ms/step - loss: 42.0798 - mean_absolute_error: 42.0798 - val_loss: nan - val_mean_absolute_error: nan\n",
            "Epoch 62/100\n",
            "26/26 [==============================] - 0s 6ms/step - loss: 42.0024 - mean_absolute_error: 42.0024 - val_loss: nan - val_mean_absolute_error: nan\n",
            "Epoch 63/100\n",
            "26/26 [==============================] - 0s 6ms/step - loss: 42.2314 - mean_absolute_error: 42.2314 - val_loss: nan - val_mean_absolute_error: nan\n",
            "Epoch 64/100\n",
            "26/26 [==============================] - 0s 6ms/step - loss: 43.1815 - mean_absolute_error: 43.1815 - val_loss: nan - val_mean_absolute_error: nan\n",
            "Epoch 65/100\n",
            "26/26 [==============================] - 0s 6ms/step - loss: 43.0778 - mean_absolute_error: 43.0778 - val_loss: nan - val_mean_absolute_error: nan\n",
            "Epoch 66/100\n",
            "26/26 [==============================] - 0s 8ms/step - loss: 41.5189 - mean_absolute_error: 41.5189 - val_loss: nan - val_mean_absolute_error: nan\n",
            "Epoch 67/100\n",
            "26/26 [==============================] - 0s 6ms/step - loss: 42.7528 - mean_absolute_error: 42.7528 - val_loss: nan - val_mean_absolute_error: nan\n",
            "Epoch 68/100\n",
            "26/26 [==============================] - 0s 6ms/step - loss: 42.0836 - mean_absolute_error: 42.0836 - val_loss: nan - val_mean_absolute_error: nan\n",
            "Epoch 69/100\n",
            "26/26 [==============================] - 0s 6ms/step - loss: 42.2300 - mean_absolute_error: 42.2300 - val_loss: nan - val_mean_absolute_error: nan\n",
            "Epoch 70/100\n",
            "26/26 [==============================] - 0s 6ms/step - loss: 43.2989 - mean_absolute_error: 43.2989 - val_loss: nan - val_mean_absolute_error: nan\n",
            "Epoch 71/100\n",
            "26/26 [==============================] - 0s 6ms/step - loss: 42.4139 - mean_absolute_error: 42.4139 - val_loss: nan - val_mean_absolute_error: nan\n",
            "Epoch 72/100\n",
            "26/26 [==============================] - 0s 6ms/step - loss: 42.9499 - mean_absolute_error: 42.9499 - val_loss: nan - val_mean_absolute_error: nan\n",
            "Epoch 73/100\n",
            "26/26 [==============================] - 0s 8ms/step - loss: 41.6493 - mean_absolute_error: 41.6493 - val_loss: nan - val_mean_absolute_error: nan\n",
            "Epoch 74/100\n",
            "26/26 [==============================] - 0s 8ms/step - loss: 41.2561 - mean_absolute_error: 41.2561 - val_loss: nan - val_mean_absolute_error: nan\n",
            "Epoch 75/100\n",
            "26/26 [==============================] - 0s 6ms/step - loss: 41.4653 - mean_absolute_error: 41.4653 - val_loss: nan - val_mean_absolute_error: nan\n",
            "Epoch 76/100\n",
            "26/26 [==============================] - 0s 8ms/step - loss: 40.9766 - mean_absolute_error: 40.9766 - val_loss: nan - val_mean_absolute_error: nan\n",
            "Epoch 77/100\n",
            "26/26 [==============================] - 0s 6ms/step - loss: 41.3598 - mean_absolute_error: 41.3598 - val_loss: nan - val_mean_absolute_error: nan\n",
            "Epoch 78/100\n",
            "26/26 [==============================] - 0s 6ms/step - loss: 42.3355 - mean_absolute_error: 42.3355 - val_loss: nan - val_mean_absolute_error: nan\n",
            "Epoch 79/100\n",
            "26/26 [==============================] - 0s 7ms/step - loss: 41.2848 - mean_absolute_error: 41.2848 - val_loss: nan - val_mean_absolute_error: nan\n",
            "Epoch 80/100\n",
            "26/26 [==============================] - 0s 8ms/step - loss: 42.1000 - mean_absolute_error: 42.1000 - val_loss: nan - val_mean_absolute_error: nan\n",
            "Epoch 81/100\n",
            "26/26 [==============================] - 0s 8ms/step - loss: 41.2146 - mean_absolute_error: 41.2146 - val_loss: nan - val_mean_absolute_error: nan\n",
            "Epoch 82/100\n",
            "26/26 [==============================] - 0s 6ms/step - loss: 42.8986 - mean_absolute_error: 42.8986 - val_loss: nan - val_mean_absolute_error: nan\n",
            "Epoch 83/100\n",
            "26/26 [==============================] - 0s 6ms/step - loss: 43.4541 - mean_absolute_error: 43.4541 - val_loss: nan - val_mean_absolute_error: nan\n",
            "Epoch 84/100\n",
            "26/26 [==============================] - 0s 6ms/step - loss: 41.8389 - mean_absolute_error: 41.8389 - val_loss: nan - val_mean_absolute_error: nan\n",
            "Epoch 85/100\n",
            "26/26 [==============================] - 0s 8ms/step - loss: 41.3909 - mean_absolute_error: 41.3909 - val_loss: nan - val_mean_absolute_error: nan\n",
            "Epoch 86/100\n",
            "26/26 [==============================] - 0s 6ms/step - loss: 41.9743 - mean_absolute_error: 41.9743 - val_loss: nan - val_mean_absolute_error: nan\n",
            "Epoch 87/100\n",
            "26/26 [==============================] - 0s 6ms/step - loss: 42.1184 - mean_absolute_error: 42.1184 - val_loss: nan - val_mean_absolute_error: nan\n",
            "Epoch 88/100\n",
            "26/26 [==============================] - 0s 6ms/step - loss: 40.9426 - mean_absolute_error: 40.9426 - val_loss: nan - val_mean_absolute_error: nan\n",
            "Epoch 89/100\n",
            "26/26 [==============================] - 0s 6ms/step - loss: 41.1486 - mean_absolute_error: 41.1486 - val_loss: nan - val_mean_absolute_error: nan\n",
            "Epoch 90/100\n",
            "26/26 [==============================] - 0s 7ms/step - loss: 40.5324 - mean_absolute_error: 40.5324 - val_loss: nan - val_mean_absolute_error: nan\n",
            "Epoch 91/100\n",
            "26/26 [==============================] - 0s 8ms/step - loss: 40.4417 - mean_absolute_error: 40.4417 - val_loss: nan - val_mean_absolute_error: nan\n",
            "Epoch 92/100\n",
            "26/26 [==============================] - 0s 8ms/step - loss: 42.9861 - mean_absolute_error: 42.9861 - val_loss: nan - val_mean_absolute_error: nan\n",
            "Epoch 93/100\n",
            "26/26 [==============================] - 0s 6ms/step - loss: 41.9326 - mean_absolute_error: 41.9326 - val_loss: nan - val_mean_absolute_error: nan\n",
            "Epoch 94/100\n",
            "26/26 [==============================] - 0s 7ms/step - loss: 40.7578 - mean_absolute_error: 40.7578 - val_loss: nan - val_mean_absolute_error: nan\n",
            "Epoch 95/100\n",
            "26/26 [==============================] - 0s 8ms/step - loss: 40.4545 - mean_absolute_error: 40.4545 - val_loss: nan - val_mean_absolute_error: nan\n",
            "Epoch 96/100\n",
            "26/26 [==============================] - 0s 6ms/step - loss: 43.1367 - mean_absolute_error: 43.1367 - val_loss: nan - val_mean_absolute_error: nan\n",
            "Epoch 97/100\n",
            "26/26 [==============================] - 0s 8ms/step - loss: 40.7401 - mean_absolute_error: 40.7401 - val_loss: nan - val_mean_absolute_error: nan\n",
            "Epoch 98/100\n",
            "26/26 [==============================] - 0s 6ms/step - loss: 41.1769 - mean_absolute_error: 41.1769 - val_loss: nan - val_mean_absolute_error: nan\n",
            "Epoch 99/100\n",
            "26/26 [==============================] - 0s 6ms/step - loss: 40.1917 - mean_absolute_error: 40.1917 - val_loss: nan - val_mean_absolute_error: nan\n",
            "Epoch 100/100\n",
            "26/26 [==============================] - 0s 6ms/step - loss: 41.9855 - mean_absolute_error: 41.9855 - val_loss: nan - val_mean_absolute_error: nan\n"
          ]
        }
      ]
    },
    {
      "cell_type": "code",
      "source": [
        "plt.figure(figsize = (10,6))\n",
        "plt.plot(history.history[\"loss\"])\n",
        "plt.show()"
      ],
      "metadata": {
        "colab": {
          "base_uri": "https://localhost:8080/",
          "height": 374
        },
        "id": "n_CSOOTJT1k-",
        "outputId": "e2fc0c33-ee4d-4387-b50d-bbaa92dd13d0"
      },
      "execution_count": 47,
      "outputs": [
        {
          "output_type": "display_data",
          "data": {
            "text/plain": [
              "<Figure size 720x432 with 1 Axes>"
            ],
            "image/png": "[encoded data removed]"
          },
          "metadata": {
            "needs_background": "light"
          }
        }
      ]
    },
    {
      "cell_type": "code",
      "source": [
        "plt.figure(figsize = (10,6))\n",
        "plt.plot(history.history[\"mean_absolute_error\"])\n",
        "plt.show()"
      ],
      "metadata": {
        "colab": {
          "base_uri": "https://localhost:8080/",
          "height": 374
        },
        "id": "fOsG7F7nT1nk",
        "outputId": "4811e426-2db3-490c-bb14-518340e909db"
      },
      "execution_count": 50,
      "outputs": [
        {
          "output_type": "display_data",
          "data": {
            "text/plain": [
              "<Figure size 720x432 with 1 Axes>"
            ],
            "image/png": "[encoded data removed]"
          },
          "metadata": {
            "needs_background": "light"
          }
        }
      ]
    },
    {
      "cell_type": "code",
      "source": [
        ""
      ],
      "metadata": {
        "id": "Qlquo40jT1qQ"
      },
      "execution_count": null,
      "outputs": []
    },
    {
      "cell_type": "code",
      "source": [
        ""
      ],
      "metadata": {
        "id": "zrHvqQZST1so"
      },
      "execution_count": null,
      "outputs": []
    },
    {
      "cell_type": "code",
      "source": [
        ""
      ],
      "metadata": {
        "id": "Sasb5x_jT1vG"
      },
      "execution_count": null,
      "outputs": []
    },
    {
      "cell_type": "code",
      "source": [
        ""
      ],
      "metadata": {
        "id": "v3_-Bk6HPbrr"
      },
      "execution_count": null,
      "outputs": []
    },
    {
      "cell_type": "code",
      "source": [
        ""
      ],
      "metadata": {
        "id": "owtQlT4WPbuh"
      },
      "execution_count": null,
      "outputs": []
    },
    {
      "cell_type": "code",
      "source": [
        ""
      ],
      "metadata": {
        "id": "kDLuyqjMPbxh"
      },
      "execution_count": null,
      "outputs": []
    }
  ]
}